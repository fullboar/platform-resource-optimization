{
 "cells": [
  {
   "cell_type": "code",
   "execution_count": 1,
   "metadata": {},
   "outputs": [],
   "source": [
    "%load_ext sql\n",
    "%load_ext dotenv\n",
    "\n",
    "%sql postgresql://$POSTGRES_USER:$POSTGRES_PWD@db/registry"
   ]
  },
  {
   "cell_type": "code",
   "execution_count": 10,
   "metadata": {},
   "outputs": [],
   "source": [
    "BUSINESS_ORG = 'ENV'"
   ]
  },
  {
   "cell_type": "code",
   "execution_count": null,
   "metadata": {},
   "outputs": [],
   "source": [
    "%%sql \n",
    "\n",
    "SELECT profile.namespace_prefix AS namespace, profile.name, container_cpu_usage_sum AS usage,\n",
    "container_cpu_requests_sum AS request,\n",
    "round((container_cpu_usage_sum/container_cpu_requests_sum*100)::numeric,2)  as usage_pct\n",
    "  FROM profile\n",
    "  JOIN resource_usage ON resource_usage.project_set_id = profile.namespace_prefix \n",
    "WHERE resource_usage.created_at >= date_trunc('day', now()) AND profile.bus_org_id = :BUSINESS_ORG\n",
    "ORDER BY usage_pct ASC;"
   ]
  },
  {
   "cell_type": "markdown",
   "metadata": {},
   "source": [
    "pdflatex --halt-on-error -output-format=pdf org_report.tex"
   ]
  }
 ],
 "metadata": {
  "kernelspec": {
   "display_name": "Python 3.9.12 ('base')",
   "language": "python",
   "name": "python3"
  },
  "language_info": {
   "codemirror_mode": {
    "name": "ipython",
    "version": 3
   },
   "file_extension": ".py",
   "mimetype": "text/x-python",
   "name": "python",
   "nbconvert_exporter": "python",
   "pygments_lexer": "ipython3",
   "version": "3.9.13"
  },
  "orig_nbformat": 4,
  "vscode": {
   "interpreter": {
    "hash": "d4d1e4263499bec80672ea0156c357c1ee493ec2b1c70f0acce89fc37c4a6abe"
   }
  }
 },
 "nbformat": 4,
 "nbformat_minor": 2
}
