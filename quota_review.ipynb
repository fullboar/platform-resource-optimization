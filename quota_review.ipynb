{
 "cells": [
  {
   "attachments": {},
   "cell_type": "markdown",
   "metadata": {},
   "source": [
    "# TL;DR\n",
    "\n",
    "This notebook will gather the metrics normally used to evaluate a quota change request. It is meant to automate the research done manually and apply herustics to guide judgement"
   ]
  },
  {
   "attachments": {},
   "cell_type": "markdown",
   "metadata": {},
   "source": [
    "Enter the namespace of the project you are evaluating."
   ]
  },
  {
   "cell_type": "code",
   "execution_count": 3,
   "metadata": {},
   "outputs": [],
   "source": [
    "from array import *\n",
    "import os\n",
    "import pandas as pd\n",
    "import requests\n",
    "import sqlalchemy as db"
   ]
  },
  {
   "cell_type": "code",
   "execution_count": 35,
   "metadata": {
    "tags": [
     "parameters"
    ]
   },
   "outputs": [],
   "source": [
    "namespace='d106d6-dev'\n",
    "throttling_threshold=9 # as a percentage\n",
    "thanos_token = os.environ['THANOS_TOKEN']\n",
    "thanos_url = os.environ['THANOS_URL']"
   ]
  },
  {
   "cell_type": "code",
   "execution_count": 79,
   "metadata": {},
   "outputs": [],
   "source": [
    "headers = { 'Content-type': 'application/json', 'Authorization': 'Bearer %s' % thanos_token } \n",
    "\n",
    "def letter_for_grade(grade):\n",
    "    if grade >= 80:\n",
    "        result = [grade, 'A']\n",
    "    elif grade >= 60 and grade < 80:\n",
    "        result = [grade, 'B']\n",
    "    elif grade >= 40 and grade < 60:\n",
    "        result = [grade, 'C']\n",
    "    elif grade >= 20 and grade < 40:\n",
    "        result = [grade, 'D']\n",
    "    else:\n",
    "        result = [grade, 'F']\n",
    "\n",
    "    return result\n",
    "\n",
    "def fetch_and_process_slack():\n",
    "  querystring = 'query=sum({__name__=~\"namespace_cpu:kube_pod_container_resource_requests:sum|namespace:container_cpu_usage:sum|namespace_cpu:kube_pod_container_resource_limits:sum\", namespace=~\"%s\"} offset 1d) BY (__name__)'\n",
    "  temp = {}\n",
    "  p = querystring % namespace\n",
    "\n",
    "  response = requests.get(thanos_url, headers = headers, params = p)\n",
    "  if response.status_code != 200:\n",
    "    quit()\n",
    "\n",
    "  result_as_json = pd.read_json(response.text)\n",
    "\n",
    "  try:\n",
    "    # print(response.text)\n",
    "    temp[namespace] = {}\n",
    "    for r in result_as_json.data['result']:\n",
    "      temp[namespace][r['metric']['__name__']] = round(float(r['value'][1]), 2)\n",
    "    if len(temp[namespace].keys()) == 0:\n",
    "      del temp[namespace]\n",
    "    \n",
    "  except Exception as e:\n",
    "    print(e)\n",
    "\n",
    "  u = temp[namespace]['namespace:container_cpu_usage:sum']\n",
    "  r = temp[namespace]['namespace_cpu:kube_pod_container_resource_requests:sum']\n",
    "  l = temp[namespace]['namespace_cpu:kube_pod_container_resource_limits:sum']\n",
    "  s = round(float(u/r*100), 0)\n",
    "\n",
    "  return {'usage': u, 'request': r, 'limit': l, 'slack_as_pct': s}\n",
    "\n",
    "def fetch_and_process_throttling():\n",
    "  temp = []\n",
    "  querystring = 'query=avg(container_cpu_cfs_throttled_periods_total / container_cpu_cfs_periods_total {namespace=~\"%s\", pod=~\".*\", container_name!=\"POD\", image!=\"\"} * 100 > %x) BY (pod)'\n",
    "  p = querystring % (namespace, throttling_threshold)\n",
    "\n",
    "  response = requests.get(thanos_url, headers = headers, params = p)\n",
    "  if response.status_code != 200:\n",
    "    quit()\n",
    "\n",
    "  result_as_json = pd.read_json(response.text)\n",
    "\n",
    "  try:\n",
    "    for r in result_as_json.data['result']:\n",
    "      temp.append({ 'name': r['metric']['pod'], 'value':round(float(r['value'][1]), 0) })\n",
    "\n",
    "  except Exception as e:\n",
    "    print(e)\n",
    "\n",
    "  return temp\n",
    "\n",
    "# utilization = fetch_and_process_slack()\n",
    "# throttled = fetch_and_process_throttling()\n",
    "\n",
    "# metrics  = {'throttled': throttled, 'utilization': utilization}\n",
    "\n",
    "metrics = { 'throttled': [{'name': 'abc', 'value': 42.1}], 'utilization': {'usage': 0.8, 'request': 3.3, 'limit': 5.0, 'slack_as_pct': 2.1}}\n"
   ]
  },
  {
   "attachments": {},
   "cell_type": "markdown",
   "metadata": {},
   "source": [
    "# Evaluation\n",
    "\n",
    "The following are to be used \n",
    "## Current Status\n",
    "Any project with less than a F or D grade for CPU utilization must book a 30 minute meeting to review the presentation on how to optimize resouce usage on OpenShift."
   ]
  },
  {
   "cell_type": "code",
   "execution_count": 92,
   "metadata": {},
   "outputs": [
    {
     "name": "stdout",
     "output_type": "stream",
     "text": [
      "CPU Usage & Throtteling Report\n",
      "\n",
      "CPU usage  : 0.8\n",
      "CPU request: 3.3\n",
      "CPU limit  : 5.0\n",
      "CPU slack  : 2.1\n",
      "\n",
      "Namespace d106d6-dev gets a F for CPU utilization.\n",
      "\n",
      "The following pods are being throttled \n",
      "a significant amount:\n",
      "  - abc, time throttled: 42.100000\n"
     ]
    }
   ],
   "source": [
    "print('CPU Usage & Throtteling Report\\n')\n",
    "print('CPU usage  : %s' % metrics['utilization']['usage'])\n",
    "print('CPU request: %s' % metrics['utilization']['request'])\n",
    "print('CPU limit  : %s' % metrics['utilization']['limit'])\n",
    "print('CPU slack  : %s' % metrics['utilization']['slack_as_pct'])\n",
    "print('\\nNamespace %s gets a %s for CPU utilization.' % (namespace, letter_for_grade(metrics['utilization']['slack_as_pct'])[1]))\n",
    "print('\\nThe following pods are being throttled \\na significant amount:')\n",
    "\n",
    "for t in metrics['throttled']:\n",
    "    print('  - %s, time throttled: %f' % (t['name'], t['value']))\n"
   ]
  }
 ],
 "metadata": {
  "kernelspec": {
   "display_name": "Python 3.9.13 ('base')",
   "language": "python",
   "name": "python3"
  },
  "language_info": {
   "codemirror_mode": {
    "name": "ipython",
    "version": 3
   },
   "file_extension": ".py",
   "mimetype": "text/x-python",
   "name": "python",
   "nbconvert_exporter": "python",
   "pygments_lexer": "ipython3",
   "version": "3.9.13"
  },
  "orig_nbformat": 4,
  "vscode": {
   "interpreter": {
    "hash": "d4d1e4263499bec80672ea0156c357c1ee493ec2b1c70f0acce89fc37c4a6abe"
   }
  }
 },
 "nbformat": 4,
 "nbformat_minor": 2
}
