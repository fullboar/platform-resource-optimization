{
 "cells": [
  {
   "cell_type": "code",
   "execution_count": null,
   "metadata": {},
   "outputs": [],
   "source": [
    "from array import *\n",
    "import os\n",
    "import pandas as pd\n",
    "import requests\n",
    "import sqlalchemy as db\n",
    "\n",
    "%load_ext sql\n",
    "%load_ext dotenv\n",
    "\n",
    "%sql postgresql://$POSTGRES_USER:$POSTGRES_PWD@db/registry\n",
    "\n",
    "conn_str = 'postgresql://%s:%s@db/registry' % (os.getenv(\"POSTGRES_USER\"), os.getenv(\"POSTGRES_PWD\"))\n",
    "engine = db.create_engine(conn_str)\n",
    "connection = engine.connect()"
   ]
  },
  {
   "cell_type": "code",
   "execution_count": null,
   "metadata": {},
   "outputs": [],
   "source": [
    "THANOS_TOKEN = os.environ['THANOS_TOKEN']\n",
    "THANOS_URL = 'https://thanos-querier-openshift-monitoring.apps.silver.devops.gov.bc.ca/api/v1/query' #os.environ['THANOS_URL']\n",
    "\n",
    "headers = { 'Content-type': 'application/json', 'Authorization': 'Bearer %s' % THANOS_TOKEN } \n",
    "querystring = 'query=sum({__name__=~\"namespace_cpu:kube_pod_container_resource_requests:sum|namespace:container_cpu_usage:sum|namespace_cpu:kube_pod_container_resource_limits:sum\", namespace=~\"%s.*\"} offset 1w) BY (__name__)'\n",
    "usage = {}\n",
    "\n",
    "result = %sql SELECT project_set_id FROM project WHERE archived = false AND cluster = 'SILVER';\n",
    "\n",
    "for n in list(map(lambda r: r[0], result)):\n",
    "  p = querystring % n\n",
    "\n",
    "  response = requests.get(THANOS_URL, headers = headers, params = p)\n",
    "  if response.status_code != 200:\n",
    "    quit()\n",
    "\n",
    "  result_as_json = pd.read_json(response.text)\n",
    "  \n",
    "  try:\n",
    "    # print(response.text)\n",
    "    usage[n] = {}\n",
    "    for r in result_as_json.data['result']:\n",
    "      usage[n][r['metric']['__name__']] = round(float(r['value'][1]), 3)\n",
    "    if len(usage[n].keys()) == 0:\n",
    "      del usage[n]\n",
    "    \n",
    "  except Exception as e:\n",
    "    print(e)\n"
   ]
  },
  {
   "attachments": {},
   "cell_type": "markdown",
   "metadata": {},
   "source": [
    "The keys to the dictionary will be:\n",
    "- namespace:container_cpu_usage:sum\n",
    "- namespace_cpu:kube_pod_container_resource_requests:sum\n",
    "- namespace_cpu:kube_pod_container_resource_limits:sum"
   ]
  },
  {
   "cell_type": "code",
   "execution_count": null,
   "metadata": {},
   "outputs": [],
   "source": [
    "conn_str = 'postgresql://app_api_704fkrus:bacon@db/registry'\n",
    "engine = db.create_engine(conn_str)\n",
    "connection = engine.connect()\n",
    "\n",
    "meta_data = db.MetaData()\n",
    "db.MetaData.reflect(meta_data, bind=engine)\n",
    "resource_usage = meta_data.tables['resource_usage']\n",
    "\n",
    "for key in usage:\n",
    "  try:\n",
    "    u = usage[key]['namespace:container_cpu_usage:sum']\n",
    "    r = usage[key]['namespace_cpu:kube_pod_container_resource_requests:sum']\n",
    "    l = usage[key]['namespace_cpu:kube_pod_container_resource_limits:sum']\n",
    "    \n",
    "    # print (key, u, r, l, round(u / r * 100, 2))\n",
    "\n",
    "    stmt = db.insert(resource_usage).values(\n",
    "        project_set_id=key,\n",
    "        container_cpu_usage_sum=u,\n",
    "        container_cpu_requests_sum=r,\n",
    "        container_cpu_limit_sum=l)\n",
    "    \n",
    "    # print(stmt)\n",
    "    connection.execute(stmt)\n",
    "  except Exception as e:\n",
    "      print(e)\n",
    "\n",
    "connection.commit()"
   ]
  }
 ],
 "metadata": {
  "kernelspec": {
   "display_name": "Python 3.9.13 ('base')",
   "language": "python",
   "name": "python3"
  },
  "language_info": {
   "codemirror_mode": {
    "name": "ipython",
    "version": 3
   },
   "file_extension": ".py",
   "mimetype": "text/x-python",
   "name": "python",
   "nbconvert_exporter": "python",
   "pygments_lexer": "ipython3",
   "version": "3.8.10"
  },
  "orig_nbformat": 4,
  "vscode": {
   "interpreter": {
    "hash": "d4d1e4263499bec80672ea0156c357c1ee493ec2b1c70f0acce89fc37c4a6abe"
   }
  }
 },
 "nbformat": 4,
 "nbformat_minor": 2
}
