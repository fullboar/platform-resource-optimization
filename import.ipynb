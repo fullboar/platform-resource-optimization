{
 "cells": [
  {
   "cell_type": "code",
   "execution_count": 2,
   "metadata": {},
   "outputs": [],
   "source": [
    "from array import *\n",
    "import pandas as pd\n",
    "import sqlalchemy as db\n",
    "\n",
    "%load_ext sql\n",
    "%load_ext dotenv\n",
    "%sql postgresql://$POSTGRES_USER:$POSTGRES_PWD@db/registry"
   ]
  },
  {
   "cell_type": "code",
   "execution_count": 4,
   "metadata": {},
   "outputs": [
    {
     "data": {
      "text/html": [
       "<div>\n",
       "<style scoped>\n",
       "    .dataframe tbody tr th:only-of-type {\n",
       "        vertical-align: middle;\n",
       "    }\n",
       "\n",
       "    .dataframe tbody tr th {\n",
       "        vertical-align: top;\n",
       "    }\n",
       "\n",
       "    .dataframe thead th {\n",
       "        text-align: right;\n",
       "    }\n",
       "</style>\n",
       "<table border=\"1\" class=\"dataframe\">\n",
       "  <thead>\n",
       "    <tr style=\"text-align: right;\">\n",
       "      <th></th>\n",
       "      <th>name</th>\n",
       "      <th>description</th>\n",
       "      <th>ministry</th>\n",
       "      <th>cluster</th>\n",
       "      <th>projectOwnerName</th>\n",
       "      <th>projectOnwerEmail</th>\n",
       "      <th>primaryTechnicalLeadName</th>\n",
       "      <th>primaryTechnicalLeadEmail</th>\n",
       "      <th>secondaryTechnicalLeadName</th>\n",
       "      <th>secondaryTechnicalLeadEmail</th>\n",
       "      <th>licencePlate</th>\n",
       "    </tr>\n",
       "  </thead>\n",
       "  <tbody>\n",
       "    <tr>\n",
       "      <th>0</th>\n",
       "      <td>A provisioned project that is edited</td>\n",
       "      <td>test descirption new</td>\n",
       "      <td>AEST</td>\n",
       "      <td>CLAB</td>\n",
       "      <td>Test Abc</td>\n",
       "      <td>test@abc.com</td>\n",
       "      <td>Oamar Kanji</td>\n",
       "      <td>oamarkanji@gmail.com</td>\n",
       "      <td>None</td>\n",
       "      <td>None</td>\n",
       "      <td>d9a24b</td>\n",
       "    </tr>\n",
       "  </tbody>\n",
       "</table>\n",
       "</div>"
      ],
      "text/plain": [
       "                                    name           description ministry   \n",
       "0  A provisioned project that is edited   test descirption new     AEST  \\\n",
       "\n",
       "  cluster projectOwnerName projectOnwerEmail primaryTechnicalLeadName   \n",
       "0    CLAB         Test Abc      test@abc.com              Oamar Kanji  \\\n",
       "\n",
       "  primaryTechnicalLeadEmail secondaryTechnicalLeadName   \n",
       "0      oamarkanji@gmail.com                       None  \\\n",
       "\n",
       "  secondaryTechnicalLeadEmail licencePlate  \n",
       "0                        None       d9a24b  "
      ]
     },
     "execution_count": 4,
     "metadata": {},
     "output_type": "execute_result"
    }
   ],
   "source": [
    "dtype={0:'string', 1:'string', 2:'string', 3:'string', 4:'string', 5:'string', 6:'string', 7:'string', 8:'string', 9:'string', 10:'string', 11:'string'}\n",
    "registry = pd.read_csv(\"/w/data/registry-20230630.csv\", dtype=dtype)\n",
    "\n",
    "registry.replace({ pd.NaT:None }, inplace=True)\n",
    "registry.head(1)\n",
    "# registry.columns\n",
    "# registry.info()\n"
   ]
  },
  {
   "cell_type": "code",
   "execution_count": 35,
   "metadata": {},
   "outputs": [],
   "source": [
    "conn_str = 'postgresql://app_api_704fkrus:bacon@db/registry'\n",
    "engine = db.create_engine(conn_str)\n",
    "connection = engine.connect()\n",
    "\n",
    "meta_data = db.MetaData()\n",
    "db.MetaData.reflect(meta_data, bind=engine)\n",
    "project = meta_data.tables['project']\n",
    "\n",
    "for i, row in registry.iterrows():\n",
    "  try:\n",
    "    stmt = db.insert(project).values(\n",
    "      project_set_id=row['licencePlate'],\n",
    "      name=row['name'],\n",
    "      description=row['description'],\n",
    "      ministry=row['ministry'],\n",
    "      cluster=row['cluster'],\n",
    "      project_owner_name=row['projectOwnerName'],\n",
    "      project_onwer_email=row['projectOnwerEmail'],\n",
    "      primary_technical_lead_name=row['primaryTechnicalLeadName'],\n",
    "      primary_technical_lead_email=row['primaryTechnicalLeadEmail'],\n",
    "      secondary_technical_lead_name=row['secondaryTechnicalLeadName'],\n",
    "      secondary_technical_lead_email=row['secondaryTechnicalLeadEmail'])\n",
    "      \n",
    "    # print(stmt)\n",
    "    connection.execute(stmt)\n",
    "  except Exception as e:\n",
    "      print(e)\n",
    "\n",
    "connection.commit()"
   ]
  }
 ],
 "metadata": {
  "kernelspec": {
   "display_name": "Python 3",
   "language": "python",
   "name": "python3"
  },
  "language_info": {
   "codemirror_mode": {
    "name": "ipython",
    "version": 3
   },
   "file_extension": ".py",
   "mimetype": "text/x-python",
   "name": "python",
   "nbconvert_exporter": "python",
   "pygments_lexer": "ipython3",
   "version": "3.8.10"
  },
  "orig_nbformat": 4
 },
 "nbformat": 4,
 "nbformat_minor": 2
}
